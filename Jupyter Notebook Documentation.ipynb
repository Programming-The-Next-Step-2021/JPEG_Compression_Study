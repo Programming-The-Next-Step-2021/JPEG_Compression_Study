{
 "cells": [
  {
   "cell_type": "markdown",
   "id": "419226d5",
   "metadata": {},
   "source": [
    "DISCLAIMER: Most of the code in this notebook is often not complete and doesn´t actually run/do anything in this context. It is mainly there for visual puropses to support the understanding.\n",
    "There are more detailled and comprehensive explanations of the code in the python documents itself. The purpose of this notebook is mainly to give an overview over the structure of the package itself, what you can do with it and how the different files are connected. Enjoy reading!"
   ]
  },
  {
   "cell_type": "markdown",
   "id": "97cc6cee",
   "metadata": {},
   "source": [
    "Hello and welcome to the documentation file of my Python package JPEG_Compression_Study.\n",
    "The goal of this package is to provide the user with an interface for a psycho/physiological experiment about visual perception. \n",
    "I will shortly describe the goal of the experiment itself and how the experimental design looks like to reach that goal. Afterwards, I will describe how to use the different files in this packages and how they are connected and I will provide you with all the necessary information you need, to use this package properly.\n"
   ]
  },
  {
   "cell_type": "markdown",
   "id": "a556277b",
   "metadata": {},
   "source": [
    "THE EXPERIMENT\n",
    "In this experiment, we will examine how accurate human visual perception can be, by testing participants reactions to different images. While people can definitely judge, whether something they see in a photograph is subjectively beautiful or not, we want to test if people can acutally perceive the objective quality of the image itself - represented by the resolution.\n",
    "We will show participants two pictures, which apparently show the exact same motive. But while one of them will contain its original quality, the other one will have a lower resolution and therefore inferior quality.\n",
    "The task for the participant is, to recognize, which of the pictures is the one with the lower resolution. This is much harder than you think. Trust me, I tried it myself multiple times.\n",
    "The level of compression varies between the different trials - some of the pictures will be displayed in only 10% quality of the original, while other pictures will be displayed in up to 90% of the original resolution.\n",
    "Participants can make their choices by pressing one of two buttons and we will measure their reaction time and if they gave the correct response in every trial. The expectation is, that the lower the resolution of the picture, the lower the error rate will be and the faster the reaction. \n",
    "With this experimental framework, it´s easy to examine the construct of visual perception and the task itself won´t take longer than 5 to 10 minutes. If you want to expand the duration of the experiment, the code makes it very easy for every researcher to ft it to his personal needs. "
   ]
  },
  {
   "cell_type": "markdown",
   "id": "ba2dcacf",
   "metadata": {},
   "source": [
    "THE DIFFERENT FILES\n",
    "The package contains multiple different files, that are all interconnected. In the following part, I will explain what each file contains and how you can use it. But first you have to import a lot of stuff."
   ]
  },
  {
   "cell_type": "code",
   "execution_count": null,
   "id": "cc04d1c0",
   "metadata": {},
   "outputs": [],
   "source": [
    "from psychopy import visual, core, event, gui\n",
    "from psychopy.hardware.keyboard import Keyboard\n",
    "from psychopy.core import Clock, wait\n",
    "from PIL import Image\n",
    "import PIL\n",
    "import os\n",
    "import glob\n",
    "import random\n",
    "import numpy as np\n",
    "import pandas as pd\n",
    "from psychopy.gui import DlgFromDict"
   ]
  },
  {
   "cell_type": "markdown",
   "id": "ce654acd",
   "metadata": {},
   "source": [
    "Stock_file_library.py\n",
    "This is a very simple file. But still very important! It contains a beautiful selection of 10 different stockphoto images of various landscapes. All those files are stored in a list, that the other documents in this package then can access. And Boy, they do!\n"
   ]
  },
  {
   "cell_type": "code",
   "execution_count": null,
   "id": "ba92c4bb",
   "metadata": {},
   "outputs": [],
   "source": [
    "image_1 = \"/Users/juliusmaerz/Documents/GitHub/Julius-Calendar_App/Stock_images/Image_1.jpg\"\n",
    "image_2 = \"/Users/juliusmaerz/Documents/GitHub/Julius-Calendar_App/Stock_images/Image_2.jpg\"\n",
    "image_3 = \"/Users/juliusmaerz/Documents/GitHub/Julius-Calendar_App/Stock_images/Image_3.jpg\"\n",
    "image_4 = \"/Users/juliusmaerz/Documents/GitHub/Julius-Calendar_App/Stock_images/Image_4.jpg\"\n",
    "image_5 = \"/Users/juliusmaerz/Documents/GitHub/Julius-Calendar_App/Stock_images/Image_5.jpg\"\n",
    "image_6 = \"/Users/juliusmaerz/Documents/GitHub/Julius-Calendar_App/Stock_images/Image_6.jpg\"\n",
    "image_7 = \"/Users/juliusmaerz/Documents/GitHub/Julius-Calendar_App/Stock_images/Image_7.jpg\"\n",
    "image_8 = \"/Users/juliusmaerz/Documents/GitHub/Julius-Calendar_App/Stock_images/Image_8.jpg\"\n",
    "image_9 = \"/Users/juliusmaerz/Documents/GitHub/Julius-Calendar_App/Stock_images/Image_9.jpg\"\n",
    "image_10 = \"/Users/juliusmaerz/Documents/GitHub/Julius-Calendar_App/Stock_images/Image_10.jpg\"\n",
    "\n",
    "image_list = [image_1, image_2, image_3,image_4,image_5,\n",
    "              image_6,image_7,image_8,image_9,image_10]"
   ]
  },
  {
   "cell_type": "markdown",
   "id": "3f5b604e",
   "metadata": {},
   "source": [
    "Compression_code.py:\n",
    "This file is dedicated to perform the JPEG compression, which is so desperately needed to make this experiment happen. All the beautiful landscapes in the Stock_files_library undergo a procedure in which they get randomly selected and compressed into different resolutions - if they want to or not!\n"
   ]
  },
  {
   "cell_type": "code",
   "execution_count": null,
   "id": "8a8b921c",
   "metadata": {},
   "outputs": [],
   "source": [
    "resolution = [10, 20, 30, 40, 50, 60, 70, 80, 90]\n",
    "picture_sizes = []\n",
    "\n",
    "def compression_trial():\n",
    "    #resolutions = []\n",
    "    for i in range(50):\n",
    "        compressed_images = []\n",
    "        pixelation = random.choice(resolution)\n",
    "        im = Image.open(random.choice(image_list))\n",
    "        os.chdir(path)\n",
    "        im.save(\"Full_image\" + str(i) +\".jpg\", optimize = True, quality=100)\n",
    "        im2 = Image.open(\"Full_image\" + str(i) + \".jpg\")\n",
    "        im2.save (\"Compressed_image\" + str(i) +\".jpg\", optimize = True, quality = pixelation)\n",
    "        picture_sizes.append(pixelation)\n",
    "\n",
    "\n"
   ]
  },
  {
   "cell_type": "markdown",
   "id": "60711a96",
   "metadata": {},
   "source": [
    "Both full_sized images and their compressed alter-egos are then stored in two different lists with 50 items each. This is the exact number of trials that the experiment will contain. Coincidence? I guess not!\n",
    "Every participant will be presented with a different sets of pictures in different combinations. This increases the replay-value of the experiment massively. "
   ]
  },
  {
   "cell_type": "code",
   "execution_count": null,
   "id": "808e0fb4",
   "metadata": {},
   "outputs": [],
   "source": [
    "comp_image_1 = \"/Users/juliusmaerz/Documents/GitHub/Julius-Calendar_App/Images/Compressed_image0.jpg\"\n",
    "comp_image_2 = \"/Users/juliusmaerz/Documents/GitHub/Julius-Calendar_App/Images/Compressed_image1.jpg\"\n",
    "comp_image_3 = \"/Users/juliusmaerz/Documents/GitHub/Julius-Calendar_App/Images/Compressed_image2.jpg\"\n",
    "comp_image_4 = \"/Users/juliusmaerz/Documents/GitHub/Julius-Calendar_App/Images/Compressed_image3.jpg\"\n",
    "comp_image_5 = \"/Users/juliusmaerz/Documents/GitHub/Julius-Calendar_App/Images/Compressed_image4.jpg\"\n",
    "comp_image_6 = \"/Users/juliusmaerz/Documents/GitHub/Julius-Calendar_App/Images/Compressed_image5.jpg\"\n",
    "comp_image_7 = \"/Users/juliusmaerz/Documents/GitHub/Julius-Calendar_App/Images/Compressed_image6.jpg\"\n",
    "comp_image_8 = \"/Users/juliusmaerz/Documents/GitHub/Julius-Calendar_App/Images/Compressed_image7.jpg\"\n",
    "\n",
    "compressed_images = [comp_image_1, comp_image_2, comp_image_3, comp_image_4, comp_image_5, comp_image_6, comp_image_7,\n",
    "                     comp_image_8]\n",
    "\n",
    "full_image_1 = \"/Users/juliusmaerz/Documents/GitHub/Julius-Calendar_App/Images/Full_image0.jpg\"\n",
    "full_image_2 = \"/Users/juliusmaerz/Documents/GitHub/Julius-Calendar_App/Images/Full_image1.jpg\"\n",
    "full_image_3 = \"/Users/juliusmaerz/Documents/GitHub/Julius-Calendar_App/Images/Full_image2.jpg\"\n",
    "full_image_4 = \"/Users/juliusmaerz/Documents/GitHub/Julius-Calendar_App/Images/Full_image3.jpg\"\n",
    "full_image_5 = \"/Users/juliusmaerz/Documents/GitHub/Julius-Calendar_App/Images/Full_image4.jpg\"\n",
    "full_image_6 = \"/Users/juliusmaerz/Documents/GitHub/Julius-Calendar_App/Images/Full_image5.jpg\"\n",
    "full_image_7 = \"/Users/juliusmaerz/Documents/GitHub/Julius-Calendar_App/Images/Full_image6.jpg\"\n",
    "full_image_8 = \"/Users/juliusmaerz/Documents/GitHub/Julius-Calendar_App/Images/Full_image7.jpg\"\n",
    "\n",
    "full_images = [full_image_1, full_image_2, full_image_3, full_image_4, full_image_5, full_image_6, full_image_7,\n",
    "               full_image_8]\n",
    "\n"
   ]
  },
  {
   "cell_type": "markdown",
   "id": "cd8b4e4f",
   "metadata": {},
   "source": [
    "Code_experimental_design.py:\n",
    "This is the main file of the entire experiment. In this file, you have the code for all trials of the experiment. You can find detailed discriptions of every single aspect of the code in the python file itself. But here´s how it generally works:\n",
    "The Code_experimental_design implements the psychopy package to initialize a handy framework for behavioral experiments. Running the file will open a dialogue window where each participant has to enter some an anonymized code so that you can distinguish between the data of different participants.\n"
   ]
  },
  {
   "cell_type": "code",
   "execution_count": null,
   "id": "6db3fb71",
   "metadata": {},
   "outputs": [],
   "source": [
    "#Dialogue window\n",
    "exp_info = {'Enter your initials, followed by the last two letters of your mothers first name!': ''}\n",
    "dlg = DlgFromDict(exp_info)\n",
    "if not dlg.OK:\n",
    "    print(\"Alright then, keep your secrets!\")\n",
    "    quit()"
   ]
  },
  {
   "cell_type": "markdown",
   "id": "096645b8",
   "metadata": {},
   "source": [
    "The participant chan choose to abort the experiment by pressing cancel, but we highly recommend to instead start it and enjoy.\n",
    "Afterwards, the programme will switch into fullscreen mode and give some basic instructions about the upcoming task. Participants are encouraged to read and remember it, but don´t worry: The instructions will continuously be displayed during the trials.\n"
   ]
  },
  {
   "cell_type": "code",
   "execution_count": null,
   "id": "add76b3a",
   "metadata": {},
   "outputs": [],
   "source": [
    "start_txt = visual.TextStim(win = mywin, text = \"\"\"You can confirm your choice by pressing one of two buttons.\n",
    "Press \"f\" if you think the picture on the LEFT is in LOWER resolution.\n",
    "Press \"j\" if you think the picture on the RIGHT is in LOWER resolution.\n",
    "Please try to react as quickly and as correctly as possible.\n",
    "You can always quit the experiment by pressing \"q\".\n",
    "Press space to begin.\"\"\")\n",
    "start_txt.draw()\n",
    "mywin.flip()\n",
    "while True:\n",
    "        keys = kb.getKeys()\n",
    "        if \"space\" in keys:\n",
    "            break\n"
   ]
  },
  {
   "cell_type": "markdown",
   "id": "d3525eff",
   "metadata": {},
   "source": [
    "You can continue through the first few instruction pages by pressing the space button. But then it´s getting serious:\n",
    "For 50 trials, participants will see two beautiful pictures and have to decide, which one of those is in a lower resolution. They can confirm their choice by either pressing the \"f\" button on their keyboard, to select the left picture or by pressing the \"j\" button to select the right picture.\n",
    "\n"
   ]
  },
  {
   "cell_type": "code",
   "execution_count": null,
   "id": "5a967cf8",
   "metadata": {},
   "outputs": [],
   "source": [
    "for i in range(50):\n",
    "            position_1 = [-9,9,9,9,-9,9,-9,9,-9,9,-9,-9,9,9,9,9,-9,9,-9,9,-9,9,-9,-9,-9,9,-9,9,-9,9,-9,9,9,-9,-9,9,-9,9,-9,9,-9,9,-9,9,9,-9,-9,-9,-9,9]\n",
    "            position_2 = [9,-9,-9,-9,9,-9,9,-9,9,-9,9,9,-9,-9,-9,-9,9,-9,9,-9,9,-9,9,9,9,-9,9,-9,9,-9,9,-9,-9,9,9,-9,9,-9,9,-9,9,-9,9,-9,-9,9,9,9,9,-9]\n",
    "            fixation = visual.TextStim(win = mywin, text = \"+\")\n",
    "            picture_1 = full_images[i]\n",
    "            picture_2 = compressed_images[i]\n",
    "            fullsize = visual.ImageStim(win=mywin,image= picture_1,size = (16, 12),pos=[position_1[i],0],texRes = 1280,interpolate = True)\n",
    "            compressed = visual.ImageStim(win=mywin,image= picture_2,size = (16, 12), pos=[position_2[i],0], texRes = 12)\n",
    "            instruction = visual.TextStim(win = mywin, text = \"\"\"Which picture is in LOWER resolution?\n",
    "Press \"f\" for the LEFT picture.\n",
    "Press \"j\" for the RIGHT picture.\"\"\", pos = [0, 10], color = (1.0, 1.0))\n",
    "            if position_2[i] == 9:\n",
    "                    correct_key.append(\"j\")\n",
    "            elif position_2[i] == -9:\n",
    "                    correct_key.append(\"f\")"
   ]
  },
  {
   "cell_type": "markdown",
   "id": "82dd71ba",
   "metadata": {},
   "source": [
    "After the key press, the next trial will start immediately. If participants are feeling lazy however, they can quit the experiment anytime by pressing the \"q\" button. But please don´t do that! You´d be missing out on a lot.\n",
    "After 50 trials, the experiment ends and the data will be saved in an excel file (see Experimental_data.xlsx)."
   ]
  },
  {
   "cell_type": "code",
   "execution_count": null,
   "id": "66fe4642",
   "metadata": {},
   "outputs": [],
   "source": [
    "t_after = clock.getTime()\n",
    "            t_difference = t_after - t_before\n",
    "            reaction_times.append(t_difference)\n",
    "            correct_image.append(picture_2)\n",
    "            datasheet = pd.DataFrame(list(zip(reaction_times, correct_image, correct_key, given_response, picture_sizes)),\n",
    "               columns =['RT', 'Correct image', \"Correct Response\", \"Given Response\", \"resolution\"])\n",
    "            datasheet.to_excel(excel_writer = \"/Users/juliusmaerz/Documents/GitHub/Julius-Calendar_App/Experimental_data.xlsx\",\n",
    "                     index = False)\n"
   ]
  },
  {
   "cell_type": "markdown",
   "id": "bcda20f3",
   "metadata": {},
   "source": [
    "Experimental_data.xlsx:\n",
    "This is an automatically generated data-file that stores all the valuable information that is collected during the experiment. It is an excel spreadsheet with the following columns:\n",
    "Reaction time (RT): In this column, you can see the reaction time for each experimental trial.\n",
    "Correct images: In this column, the name of every single \"correct\" picture - remember: The one with the lower resolution - will be stored. This way you can always check whether there are some motives that were just harder to recognize than others.\n",
    "Correct responses: In this column, for every trial the correct response will be stored in form of the letter that stands for the corresponding key.\n",
    "Given response: In this column you can see, which response the participant actually gave in every trial. This makes it easy to compare the Correct- with the given response, to see how much skill the corresponding participant posessed. Or how hard he screwed up.\n",
    "Resolution: Finally, in this column the resolution of each picture is stored in the form of the quality-percentage of the original picture. The higher the number, the harder it was for the participant.\n",
    "\n"
   ]
  },
  {
   "cell_type": "markdown",
   "id": "6d5a1ed4",
   "metadata": {},
   "source": [
    "Stock_images (Folder):\n",
    "In this folder, the 10 landscape pictures are stored in their full, undistorted quality. You can always add more pictures to spice things up.\n",
    "\n",
    "Images (folder)\n",
    "This folder will look different for each participant. It stores the 50 full-sized pictures that were displayed for this particular participant, as well as the 50 compressed images. A full_image with a certain number always corresponds to a compressed_image with the same number."
   ]
  },
  {
   "cell_type": "markdown",
   "id": "ae17c772",
   "metadata": {},
   "source": [
    "Setup.py:\n",
    "This file contains the setup for the package, including package name, creator, contact adress and required version. Not much to see here.\n",
    "\n",
    "_init_.py:\n",
    "This is the initialization file for the package\n",
    "\n",
    "unit_test.py:\n",
    "This file was created to display different tests to see whether the experiment works or not. Feel free to add anything :D\n",
    "\n",
    "README.md:\n",
    "The classical README file. If you made it to the end of this document, you probably won´t find any additional information there. But you can still read it of course.\n",
    "\n",
    "LICENSE:\n",
    "This one contains the MIT license for usage and distribution of this package.\n",
    "\n"
   ]
  },
  {
   "cell_type": "code",
   "execution_count": null,
   "id": "d2f34203",
   "metadata": {},
   "outputs": [],
   "source": []
  }
 ],
 "metadata": {
  "kernelspec": {
   "display_name": "Python 3",
   "language": "python",
   "name": "python3"
  },
  "language_info": {
   "codemirror_mode": {
    "name": "ipython",
    "version": 3
   },
   "file_extension": ".py",
   "mimetype": "text/x-python",
   "name": "python",
   "nbconvert_exporter": "python",
   "pygments_lexer": "ipython3",
   "version": "3.8.1"
  }
 },
 "nbformat": 4,
 "nbformat_minor": 5
}
